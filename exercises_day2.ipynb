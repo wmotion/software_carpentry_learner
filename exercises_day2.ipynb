{
 "cells": [
  {
   "cell_type": "markdown",
   "id": "00c4cb34-285f-45a9-9fc6-fa32bdd43c0b",
   "metadata": {},
   "source": [
    "# Software Carpentry Exercises\n",
    "\n",
    "### Instructions\n",
    "\n",
    "Exercises are marked with a colored question mark (❓/❔). The aim is to complete the ❓ questions during the Breakout session, ❔ questions can be treated as optional or homework.\n",
    "\n",
    "⚠️ Make sure to execute the cells containing code in the question itself to create the required variables. If you encounter a `NameError` in your solution, you probably did not executed all cells containing code in the question.\n",
    "\n",
    "🔎 **Solutions** are provided for each question. If the solution comes in the form of code, uncomment (remove the #-symbol) the line containing `%load solutions/<solution.py>` (keep the %-symbol) and execute the cell (once for showing the answer, twice for executing the solution).\n",
    "\n",
    "**Legend**  \n",
    "❓ = Question to cover in the breakout session  \n",
    "❔ = Optional question / homework  \n",
    "💡 = hints  \n",
    "🔎 = solution"
   ]
  },
  {
   "cell_type": "markdown",
   "id": "fa051043-0caf-4154-a035-7c8c92304600",
   "metadata": {},
   "source": [
    "## Breakout Session 1"
   ]
  },
  {
   "cell_type": "markdown",
   "id": "3838a9f8-2066-4d77-a6a4-fe0949cf56ff",
   "metadata": {},
   "source": [
    "### ❓ <ins>Counting vowels</ins>"
   ]
  },
  {
   "cell_type": "markdown",
   "id": "bf6d763f-c08e-4d53-aa13-cc3367d1ca5b",
   "metadata": {},
   "source": [
    "**Questions**  \n",
    "1. Write a loop that counts the number of vowels in a character string.\n",
    "1. Test it on a few individual words and full sentences.\n",
    "1. Once you are done, compare your solution to your neighbor’s. Did you make the same decisions about how to handle the letter ‘y’ (which some people think is a vowel, and some do not)?"
   ]
  },
  {
   "cell_type": "markdown",
   "id": "fcab829e-4f04-4fb9-b339-3c31b84ea87d",
   "metadata": {},
   "source": [
    "<details>\n",
    "<summary>💡 Click here for hints</summary>\n",
    "\n",
    "1. Define three variables: a string with with all vowels (think about case), a test sentence, and a counter.\n",
    "2. Create a for-loop  \n",
    "    \n",
    "    ```python\n",
    "    for char in sentence:\n",
    "        # conditional statement to find vowel\n",
    "        # if yes, add to counter\n",
    "    ```\n",
    "\n",
    "</details>"
   ]
  },
  {
   "cell_type": "code",
   "execution_count": null,
   "id": "3d4d0296-4b71-4da6-9d11-a0c2ece2d8df",
   "metadata": {},
   "outputs": [],
   "source": [
    "# Your code here\n"
   ]
  },
  {
   "cell_type": "markdown",
   "id": "11bd794f-a0de-4634-8084-9756950e4c0f",
   "metadata": {},
   "source": [
    "#### 🔎 Solution"
   ]
  },
  {
   "cell_type": "code",
   "execution_count": null,
   "id": "ebdf9054-e26c-44ce-bb6b-c36b90f9331e",
   "metadata": {},
   "outputs": [],
   "source": [
    "# %load solutions/counting_vowels.py"
   ]
  },
  {
   "cell_type": "markdown",
   "id": "9a29e333-a34b-4825-a7ce-fcd021dc2592",
   "metadata": {
    "tags": []
   },
   "source": [
    "### ❓ <ins>Combining strings</ins>"
   ]
  },
  {
   "cell_type": "markdown",
   "id": "ce37cff0-b58f-44b7-a2f0-30e2a1872c80",
   "metadata": {},
   "source": [
    "“Adding” two strings produces their concatenation: `'a' + 'b'` is `'ab'`. Write a function called `fence` that takes two parameters called `original` and `wrapper` and returns a new string that has the `wrapper` character at the beginning and end of `original`. A call to your function should look like this:\n",
    "\n",
    "```python\n",
    "print(fence('name', '*'))\n",
    "\n",
    "Output:\n",
    "*name*\n",
    "```"
   ]
  },
  {
   "cell_type": "code",
   "execution_count": null,
   "id": "2e7c0d9c-92f3-40d9-a06b-146ac3c9accd",
   "metadata": {},
   "outputs": [],
   "source": [
    "# Your code here\n"
   ]
  },
  {
   "cell_type": "markdown",
   "id": "e2022894-6f39-4f87-8f50-3834e739d7bb",
   "metadata": {},
   "source": [
    "#### 🔎 Solution"
   ]
  },
  {
   "cell_type": "code",
   "execution_count": null,
   "id": "b707f124-8fb2-48a7-8c4a-28eaf36ee28c",
   "metadata": {},
   "outputs": [],
   "source": [
    "# %load solutions/combining_strings.py"
   ]
  },
  {
   "cell_type": "markdown",
   "id": "167ae18a-c138-455d-8fb9-ca953801d0bc",
   "metadata": {
    "tags": []
   },
   "source": [
    "### ❔ <ins>Rescaling an array</ins>"
   ]
  },
  {
   "cell_type": "markdown",
   "id": "fda0be7e-2d75-45e5-9a6f-e8b807959a41",
   "metadata": {},
   "source": [
    "1. Write a function `rescale` that takes an array as input and returns a corresponding array of values scaled to lie in the range 0.0 to 1.0."
   ]
  },
  {
   "cell_type": "markdown",
   "id": "a4f4ea82-3c94-46e3-b92c-457030f6c130",
   "metadata": {},
   "source": [
    "<details>\n",
    "<summary>💡 Click here for hints</summary>\n",
    "\n",
    "If `L` and `H` are the lowest and highest values in the original array, \n",
    "then the replacement for a value `v` should be `(v-L) / (H-L)`.\n",
    "\n",
    "    \n",
    "</details>"
   ]
  },
  {
   "cell_type": "code",
   "execution_count": null,
   "id": "851eef56-42cb-4722-ab9c-0bf6df65d13d",
   "metadata": {},
   "outputs": [],
   "source": [
    "import numpy\n",
    "\n",
    "# Your code here\n"
   ]
  },
  {
   "cell_type": "markdown",
   "id": "40f780a8-fe40-4528-850e-422eb7ab14d9",
   "metadata": {
    "tags": []
   },
   "source": [
    "#### 🔎 Solution"
   ]
  },
  {
   "cell_type": "code",
   "execution_count": null,
   "id": "cbecc133-fff9-46e4-8d71-5d6660c4fdcf",
   "metadata": {},
   "outputs": [],
   "source": [
    "# %load solutions/rescale1.py"
   ]
  },
  {
   "cell_type": "markdown",
   "id": "ab366d0b-77d7-46f8-b64e-75a72ae16ca3",
   "metadata": {},
   "source": [
    "2. Run the commands `help(numpy.arange)` and `help(numpy.linspace)` to see how to use these functions to generate regularly-spaced values, then use those values to test your `rescale` function."
   ]
  },
  {
   "cell_type": "code",
   "execution_count": null,
   "id": "c47ab2ff-60a4-406d-86b7-b21bf566f4e6",
   "metadata": {},
   "outputs": [],
   "source": [
    "# Your code here\n"
   ]
  },
  {
   "cell_type": "markdown",
   "id": "6dd0f67f-094a-4a58-83fe-43bfc20623c4",
   "metadata": {
    "tags": []
   },
   "source": [
    "#### 🔎 Solution"
   ]
  },
  {
   "cell_type": "code",
   "execution_count": null,
   "id": "734ea87f-309a-40ff-bb7b-e812c8920b08",
   "metadata": {},
   "outputs": [],
   "source": [
    "# %load solutions/rescale2.py"
   ]
  },
  {
   "cell_type": "markdown",
   "id": "de38fe8e-fb65-40b3-be29-a4c7c1415692",
   "metadata": {},
   "source": [
    "**Optional**  \n",
    "3. Rewrite the rescale function so that it scales data to lie between `0.0` and `1.0` by default, but will allow the caller to specify lower and upper bounds if they want. Verify that `rescale` now computes\n",
    "    \n",
    "```python\n",
    "rescale(numpy.arange(13), low_val=-2, high_val=7)\n",
    "```\n",
    "```\n",
    "Output\n",
    "[-2.   -1.25 -0.5   0.25  1.    1.75  2.5   3.25  4.    4.75  5.5   6.25  7.  ]\n",
    "```\n",
    "\n",
    "Once you’ve successfully tested your function, add a docstring that explains what it does. Compare your implementation to your neighbor’s: do the two functions always behave the same way?"
   ]
  },
  {
   "cell_type": "markdown",
   "id": "6ed740c5-0c3e-4e62-ae19-3a85b5ef2067",
   "metadata": {},
   "source": [
    "<details>\n",
    "<summary>💡 Click here for hints</summary>\n",
    "\n",
    "You can renormalize the `output_array` with `output_array * (H - L) + L`\n",
    "    \n",
    "</details>"
   ]
  },
  {
   "cell_type": "code",
   "execution_count": null,
   "id": "a6cb9f4c-1417-4e63-a74e-fe84b38162d9",
   "metadata": {},
   "outputs": [],
   "source": [
    "# Your code here\n"
   ]
  },
  {
   "cell_type": "markdown",
   "id": "c646dd3d-aa3c-4972-ac4a-411fab9abf8e",
   "metadata": {
    "heading_collapsed": "true",
    "tags": []
   },
   "source": [
    "#### 🔎 Solution"
   ]
  },
  {
   "cell_type": "code",
   "execution_count": null,
   "id": "dca59606-365c-4e4d-af0a-6b4aebed8f25",
   "metadata": {},
   "outputs": [],
   "source": [
    "# %load solutions/rescale3.py"
   ]
  },
  {
   "cell_type": "markdown",
   "id": "045d4657-2da1-4347-adff-79be21f7e041",
   "metadata": {},
   "source": [
    "### ❔ <ins>Sorting a List Into Buckets</ins>"
   ]
  },
  {
   "cell_type": "markdown",
   "id": "2e44b240-c919-42e6-96d6-d7d86df0ab3e",
   "metadata": {},
   "source": [
    "In our `data` folder, large data sets are stored in files whose names start with “inflammation-“ and small data sets – in files whose names start with “small-“. We also have some other files that we do not care about at this point. We’d like to break all these files into three lists called `large_files`, `small_files`, and `other_files`, respectively.\n",
    "\n",
    "Add code to the template below to do this. Note that the string method `startswith` returns `True` if and only if the string it is called on starts with the string passed as an argument, that is:"
   ]
  },
  {
   "cell_type": "code",
   "execution_count": null,
   "id": "9764e16c-6b4a-4a44-8ed3-99b2e0dd0423",
   "metadata": {},
   "outputs": [],
   "source": [
    "'String'.startswith('Str')"
   ]
  },
  {
   "cell_type": "markdown",
   "id": "90063ad7-cd23-4f66-9ba7-fe1f07e1c1b1",
   "metadata": {},
   "source": [
    "But"
   ]
  },
  {
   "cell_type": "code",
   "execution_count": null,
   "id": "02049c2c-e7e7-40e4-a000-cdf9b5a031ca",
   "metadata": {},
   "outputs": [],
   "source": [
    "'String'.startswith('str')"
   ]
  },
  {
   "cell_type": "markdown",
   "id": "266fd2ce-460b-4271-8f01-afacaf0a82b2",
   "metadata": {},
   "source": [
    "Use the following Python code as your starting point:"
   ]
  },
  {
   "cell_type": "code",
   "execution_count": null,
   "id": "70bb09e1-d279-4f4a-a21e-3c15e8ddde2a",
   "metadata": {},
   "outputs": [],
   "source": [
    "filenames = ['inflammation-01.csv',\n",
    "         'myscript.py',\n",
    "         'inflammation-02.csv',\n",
    "         'small-01.csv',\n",
    "         'small-02.csv']\n",
    "large_files = []\n",
    "small_files = []\n",
    "other_files = []"
   ]
  },
  {
   "cell_type": "markdown",
   "id": "f864960a-d5a4-4203-a16c-96d374624423",
   "metadata": {},
   "source": [
    "Your solution should:\n",
    "\n",
    "1. loop over the names of the files\n",
    "1. figure out which group each filename belongs in\n",
    "1. append the filename to that list using [list].append(new_item)\n",
    "\n",
    "In the end the three lists should be:\n",
    "\n",
    "```python\n",
    "large_files = ['inflammation-01.csv', 'inflammation-02.csv']\n",
    "small_files = ['small-01.csv', 'small-02.csv']\n",
    "other_files = ['myscript.py']\n",
    "```"
   ]
  },
  {
   "cell_type": "code",
   "execution_count": null,
   "id": "1a8eee14-3b61-46c7-8e28-80c533572342",
   "metadata": {},
   "outputs": [],
   "source": [
    "# Your code here\n"
   ]
  },
  {
   "cell_type": "markdown",
   "id": "a8146e7d-a32f-42c1-9e2c-d5e6d4c42f41",
   "metadata": {},
   "source": [
    "#### 🔎 Solution"
   ]
  },
  {
   "cell_type": "code",
   "execution_count": null,
   "id": "7379f8a9-48a0-49c6-ad3b-b9ba3f0501c7",
   "metadata": {},
   "outputs": [],
   "source": [
    "# %load solutions/sorting.py"
   ]
  },
  {
   "cell_type": "markdown",
   "id": "676f88b0-52d5-42a3-a865-7f0a8f018e9f",
   "metadata": {},
   "source": [
    "## Breakout Session 2"
   ]
  },
  {
   "cell_type": "markdown",
   "id": "a38eec37-3b59-4c94-819b-5f7d9387b487",
   "metadata": {
    "tags": []
   },
   "source": [
    "### ❓ <ins>Reading error messages</ins>"
   ]
  },
  {
   "cell_type": "markdown",
   "id": "14c0e331-1f39-440a-a6b6-45513579b5d2",
   "metadata": {},
   "source": [
    "Execute the Python code below, check the resulting traceback, and answer the following questions:\n",
    "\n",
    "1. How many levels does the traceback have?\n",
    "1. What is the function name where the error occurred?\n",
    "1. On which line number in this function did the error occur?\n",
    "1. What is the type of error?\n",
    "1. What is the error message?"
   ]
  },
  {
   "cell_type": "code",
   "execution_count": null,
   "id": "52c4d031-c035-4943-9b1c-f15e1c4025e2",
   "metadata": {},
   "outputs": [],
   "source": [
    "# This code has an intentional error and will fail to run!\n",
    "def print_message(day):\n",
    "    messages = {\n",
    "        'monday': 'Hello, world!',\n",
    "        'tuesday': 'Today is Tuesday!',\n",
    "        'wednesday': 'It is the middle of the week.',\n",
    "        'thursday': 'Today is Donnerstag in German!',\n",
    "        'friday': 'Last day of the week!',\n",
    "        'saturday': 'Hooray for the weekend!',\n",
    "        'sunday': 'Aw, the weekend is almost over.'\n",
    "    }\n",
    "    print(messages[day])\n",
    "\n",
    "def print_friday_message():\n",
    "    print_message('Friday')\n",
    "\n",
    "print_friday_message()"
   ]
  },
  {
   "attachments": {},
   "cell_type": "markdown",
   "id": "02f162ec-fa00-4295-a4f0-33b6b17bd0d4",
   "metadata": {},
   "source": [
    "<details>\n",
    "<summary>🔎 Click here for the solution</summary>\n",
    "\n",
    "1. 3 levels\n",
    "2. `print_message`\n",
    "3. 12\n",
    "4. KeyError\n",
    "5. There isn’t really a message; you’re supposed to infer that `Friday` is not a key in `messages`.\n",
    "\n",
    "</details>"
   ]
  },
  {
   "cell_type": "markdown",
   "id": "ca5ef8e7-1c46-4fcd-b24a-c7c2cc8d05b1",
   "metadata": {
    "tags": []
   },
   "source": [
    "### ❓ <ins>Identifying variable name errors</ins>"
   ]
  },
  {
   "cell_type": "markdown",
   "id": "9fe1bc34-ff25-498a-839f-5c3d84c23c6b",
   "metadata": {},
   "source": [
    "1. Read the code below, and (without running it) try to identify what the errors are.\n",
    "1. Run the code, and read the error message. What type of NameError do you think this is? In other words, is it a string with no quotes, a misspelled variable, or a variable that should have been defined but was not?\n",
    "1. Fix the error.\n",
    "1. Repeat steps 2 and 3, until you have fixed all the errors."
   ]
  },
  {
   "cell_type": "code",
   "execution_count": null,
   "id": "c674c208-55a5-4001-a198-44441d3b83e9",
   "metadata": {},
   "outputs": [],
   "source": [
    "for number in range(10):\n",
    "    # use a if the number is a multiple of 3, otherwise use b\n",
    "    if (Number % 3) == 0:\n",
    "        message = message + a\n",
    "    else:\n",
    "        message = message + 'b'\n",
    "print(message)"
   ]
  },
  {
   "cell_type": "code",
   "execution_count": null,
   "id": "f55a36f8-10ba-4c47-9bb6-bc526147e1c2",
   "metadata": {},
   "outputs": [],
   "source": [
    "# Your code here\n"
   ]
  },
  {
   "cell_type": "markdown",
   "id": "7f81e67c-4c74-49f6-9afb-73701cb006c7",
   "metadata": {},
   "source": [
    "#### 🔎 Solution"
   ]
  },
  {
   "cell_type": "code",
   "execution_count": null,
   "id": "2334713d-744e-4f9d-9707-36d5a9e2184a",
   "metadata": {},
   "outputs": [],
   "source": [
    "# %load solutions/error_name.py"
   ]
  },
  {
   "cell_type": "markdown",
   "id": "5337b698-879f-4d81-a2d8-e2a8d79c799f",
   "metadata": {
    "tags": []
   },
   "source": [
    "### ❔ <ins>Identifying index errors</ins>"
   ]
  },
  {
   "cell_type": "markdown",
   "id": "dd9d77c7-6a82-4ce8-ad2e-a24b38375499",
   "metadata": {},
   "source": [
    "1. Read the code below, and (without running it) try to identify what the errors are.\n",
    "1. Run the code, and read the error message. What type of error is it?\n",
    "1. Fix the error."
   ]
  },
  {
   "cell_type": "code",
   "execution_count": null,
   "id": "449c2e26-923e-4b7d-8e20-64fb67a730c2",
   "metadata": {},
   "outputs": [],
   "source": [
    "seasons = ['Spring', 'Summer', 'Fall', 'Winter']\n",
    "print('My favorite season is ', seasons[4])"
   ]
  },
  {
   "cell_type": "code",
   "execution_count": null,
   "id": "c121c9dd-b0e1-465b-b17d-04aebaf8431c",
   "metadata": {},
   "outputs": [],
   "source": [
    "# Your code here\n"
   ]
  },
  {
   "cell_type": "markdown",
   "id": "2c451d46-a1d3-4057-bda4-4a5793cd4618",
   "metadata": {},
   "source": [
    "#### 🔎 Solution"
   ]
  },
  {
   "cell_type": "code",
   "execution_count": null,
   "id": "70e1a2d2-c1ae-44f6-869d-e350bf8fe7df",
   "metadata": {},
   "outputs": [],
   "source": [
    "# %load solutions/error_index.py"
   ]
  },
  {
   "cell_type": "markdown",
   "id": "c5a74594-d017-4507-82d4-63ef59c3d176",
   "metadata": {},
   "source": [
    "## Breakout Session 3"
   ]
  },
  {
   "cell_type": "markdown",
   "id": "9adae061-ccea-43b6-9294-8c3c0ecf31dc",
   "metadata": {
    "tags": []
   },
   "source": [
    "### ❓ <ins>Testing assertions</ins>"
   ]
  },
  {
   "cell_type": "markdown",
   "id": "68edbc39-3bd0-48d9-a9d6-71e1d45e4d0b",
   "metadata": {},
   "source": [
    "Given a sequence of a number of cars, the function `get_total_cars` returns the total number of cars:\n",
    "\n",
    "```python\n",
    "get_total_cars([1, 2, 3, 4])\n",
    "\n",
    "Output:\n",
    "10\n",
    "```\n",
    "\n",
    "and\n",
    "```python\n",
    "get_total_cars(['a', 'b', 'c'])\n",
    "\n",
    "Output:\n",
    "ValueError: invalid literal for int() with base 10: 'a'\n",
    "```\n",
    "\n",
    "Explain in words what the assertions in this function check, and for each one, give an example of input that will make that assertion fail."
   ]
  },
  {
   "cell_type": "code",
   "execution_count": null,
   "id": "521409be-5929-49c1-8386-cbfd80acca4b",
   "metadata": {},
   "outputs": [],
   "source": [
    "def get_total_cars(values):\n",
    "    assert len(values) > 0\n",
    "    for element in values:\n",
    "        assert int(element)\n",
    "    values = [int(element) for element in values] # this syntax is a \"list comprehension\", a one-line for-loop to access items in a list\n",
    "    total = sum(values)\n",
    "    assert total > 0\n",
    "    return total"
   ]
  },
  {
   "cell_type": "markdown",
   "id": "b8866c86-a320-4597-90d5-fa09179cdb05",
   "metadata": {},
   "source": [
    "<details>\n",
    "<summary>🔎 Click here for the solution</summary>\n",
    "\n",
    "- The first assertion checks that the input sequence `values` is not empty. An empty sequence such as `[]` will make it fail.\n",
    "- The second assertion checks that each value in the list can be turned into an integer. Input such as `[1, 2,'c', 3]` will make it fail.\n",
    "- The third assertion checks that the total of the list is greater than 0. Input such as `[-10, 2, 3]` will make it fail.\n",
    "\n",
    "    \n",
    "</details>"
   ]
  },
  {
   "cell_type": "markdown",
   "id": "2bb835d5-c842-44ae-8e0d-225081280804",
   "metadata": {
    "tags": []
   },
   "source": [
    "### ❓ <ins>Debugging</ins>"
   ]
  },
  {
   "cell_type": "markdown",
   "id": "35a8b64b-a75b-4b7d-9468-ed696d86d05a",
   "metadata": {},
   "source": [
    "You are assisting a researcher with Python code that computes the Body Mass Index (BMI) of patients. The researcher is concerned because all patients seemingly have unusual and identical BMIs, despite having different physiques. BMI is calculated as **weight in kilograms** divided by the square of **height in metres**.\n",
    "\n",
    "Use the debugging principles in this exercise and locate problems with the code. What suggestions would you give the researcher for ensuring any later changes they make work correctly? What bugs do you spot?"
   ]
  },
  {
   "cell_type": "code",
   "execution_count": null,
   "id": "ef1f8c33-da86-4cd7-ace2-f3bcc344dc70",
   "metadata": {},
   "outputs": [],
   "source": [
    "patients = [[70, 1.8], [80, 1.9], [150, 1.7]]\n",
    "\n",
    "def calculate_bmi(weight, height):\n",
    "    return weight / (height ** 2)\n",
    "\n",
    "for patient in patients:\n",
    "    weight, height = patients[0]\n",
    "    bmi = calculate_bmi(height, weight)\n",
    "    print(f\"Patient's BMI is {bmi:f}\") "
   ]
  },
  {
   "cell_type": "markdown",
   "id": "af0b6186-1110-47ba-b8a7-94ab76b1df8d",
   "metadata": {},
   "source": [
    "<details>\n",
    "<summary>💡 Click here for hints</summary>\n",
    "\n",
    "- Add a print statement in the `calculate_bmi` function, like `print('weight:', weight, 'height:', height)`, to make clear what the BMI is based on.\n",
    "\n",
    "- Change `print(f\"Patient's BMI is {bmi:f}\")` to `print(f\"Patient's BMI (weight: {weight}, height: {height} is: {bmi:f}\")`, in order to be able to distinguish bugs in the function from bugs in the loop.\n",
    "\n",
    "</details>"
   ]
  },
  {
   "cell_type": "code",
   "execution_count": null,
   "id": "34f98271-0679-4cd9-8dff-e696d07fd3ed",
   "metadata": {},
   "outputs": [],
   "source": [
    "# Your code here\n"
   ]
  },
  {
   "cell_type": "markdown",
   "id": "6e762094-31c3-445a-999d-5f5bee1286ba",
   "metadata": {},
   "source": [
    "#### 🔎 Solution"
   ]
  },
  {
   "cell_type": "code",
   "execution_count": null,
   "id": "a4c1959c-624c-4570-93c5-e7eaf1f36059",
   "metadata": {},
   "outputs": [],
   "source": [
    "# %load solutions/debugging.py"
   ]
  },
  {
   "cell_type": "markdown",
   "id": "23cd593d-a076-45c2-8f57-e39bf74437d2",
   "metadata": {},
   "source": [
    "### ❔ <ins>Minimum failure</ins>"
   ]
  },
  {
   "cell_type": "markdown",
   "id": "79b3391c-5691-4a22-9f57-515348a73eb6",
   "metadata": {},
   "source": [
    "Your coworker has written a custom function to get the minimum value from a list containing numbers without using `min()`. Find the error in the code below and come up with a solution. "
   ]
  },
  {
   "cell_type": "code",
   "execution_count": null,
   "id": "c374361c-e8c9-49c5-84e7-cba331372f5e",
   "metadata": {},
   "outputs": [],
   "source": [
    "def minimum(some_list):\n",
    "    a = 0\n",
    "    for x in range(1, len(some_list)):\n",
    "        if some_list[x] < a:\n",
    "            a = some_list[x]\n",
    "    return a\n",
    "\n",
    "test_list = [1, 2, 3, 4]\n",
    "print(f\"The minimum of {test_list} is {minimum(test_list)}\")"
   ]
  },
  {
   "cell_type": "code",
   "execution_count": null,
   "id": "bc0b89ef-7508-4814-ae28-77acc64254e5",
   "metadata": {},
   "outputs": [],
   "source": [
    "# Your code here\n"
   ]
  },
  {
   "cell_type": "markdown",
   "id": "ec73421a-7380-42a6-8fff-9010150496df",
   "metadata": {},
   "source": [
    "#### 🔎 Solution"
   ]
  },
  {
   "cell_type": "code",
   "execution_count": null,
   "id": "42eaaa1c-c313-4135-967c-45853dc2a2f0",
   "metadata": {},
   "outputs": [],
   "source": [
    "# %load solutions/minimum_failure.py"
   ]
  }
 ],
 "metadata": {
  "kernelspec": {
   "display_name": "base",
   "language": "python",
   "name": "python3"
  },
  "language_info": {
   "codemirror_mode": {
    "name": "ipython",
    "version": 3
   },
   "file_extension": ".py",
   "mimetype": "text/x-python",
   "name": "python",
   "nbconvert_exporter": "python",
   "pygments_lexer": "ipython3",
   "version": "3.8.15"
  },
  "vscode": {
   "interpreter": {
    "hash": "1c5ecb6b7f23a081d11c2e2dbd2f3631d1231eec7046318b256934eae9133823"
   }
  }
 },
 "nbformat": 4,
 "nbformat_minor": 5
}
