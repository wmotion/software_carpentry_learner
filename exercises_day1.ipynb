{
 "cells": [
  {
   "attachments": {},
   "cell_type": "markdown",
   "metadata": {
    "tags": []
   },
   "source": [
    "# Software Carpentry Exercises\n",
    "\n",
    "### Instructions\n",
    "\n",
    "Exercises are marked with a colored question mark (❓/❔). The aim is to complete the ❓ questions during the Breakout session, ❔ questions can be treated as optional or homework.\n",
    "\n",
    "⚠️ Make sure to execute the cells containing code in the question itself to create the required variables. If you encounter a `NameError` in your solution, you probably did not execute all cells containing code in the question.\n",
    "\n",
    "🔎 **Solutions** are provided for each question. If the solution comes in the form of code, first uncomment the line containing `%load solutions/<solution.py>` (remove the #-symbol, but keep the %-symbol), and then execute the cell. After running the cell, the answer is shown. You can then run the cell again to run the code of the solution.\n",
    "\n",
    "**Legend**  \n",
    "❓ = Question to cover in the breakout session  \n",
    "❔ = Optional question / homework  \n",
    "💡 = hints  \n",
    "🔎 = solution"
   ]
  },
  {
   "cell_type": "markdown",
   "metadata": {
    "tags": []
   },
   "source": [
    "## Breakout Session 1"
   ]
  },
  {
   "cell_type": "markdown",
   "metadata": {
    "heading_collapsed": "true",
    "tags": []
   },
   "source": [
    "### ❓ <ins>Arithmic with different types</ins>"
   ]
  },
  {
   "cell_type": "markdown",
   "metadata": {},
   "source": [
    "Where reasonable, `float()` will convert a string to a floating point number, and `int()` will convert a floating point number to an integer:"
   ]
  },
  {
   "cell_type": "code",
   "execution_count": null,
   "metadata": {},
   "outputs": [],
   "source": [
    "print(\"string to float:\", float(\"3.4\"))\n",
    "print(\"float to int:\", int(3.4))"
   ]
  },
  {
   "cell_type": "markdown",
   "metadata": {},
   "source": [
    "**Question**  \n",
    "Given this information, which of the following will return the floating point number `2.0`? Discuss your answer.  \n",
    "_Note: there may be more than one right answer._"
   ]
  },
  {
   "cell_type": "code",
   "execution_count": 1,
   "metadata": {},
   "outputs": [],
   "source": [
    "first = 1.0\n",
    "second = \"1\"\n",
    "third = \"1.1\""
   ]
  },
  {
   "cell_type": "markdown",
   "metadata": {},
   "source": [
    "1. `first + float(second)`\n",
    "1. `float(second) + float(third)`\n",
    "1. `first + int(third)`\n",
    "1. `first + int(float(third))`\n",
    "1. `int(first) + int(float(third))`\n",
    "1. `2.0 * second`"
   ]
  },
  {
   "cell_type": "code",
   "execution_count": 4,
   "metadata": {
    "tags": []
   },
   "outputs": [],
   "source": [
    "# Your code here\n"
   ]
  },
  {
   "attachments": {},
   "cell_type": "markdown",
   "metadata": {},
   "source": [
    "<details>\n",
    "<summary>🔎 Solution</summary>\n",
    "\n",
    "Answer: 1 and 4 <br>\n",
    "    \n",
    "Note, questions 3 and 6 produce an error, respectively a `ValueError` owing to an ill-posed argument in a function, and `TypeError`, owing to ill-posed operands in a operation.\n",
    "    \n",
    "</details>"
   ]
  },
  {
   "cell_type": "markdown",
   "metadata": {
    "heading_collapsed": "true",
    "tags": []
   },
   "source": [
    "### ❓ <ins>Slicing strings</ins>"
   ]
  },
  {
   "cell_type": "markdown",
   "metadata": {},
   "source": [
    "“Indexing” means referring to an element of a list by its position within the list. “Slicing” means getting a subset of elements from a list based on their indices. We can take slices of character strings as well:"
   ]
  },
  {
   "cell_type": "code",
   "execution_count": null,
   "metadata": {
    "tags": []
   },
   "outputs": [],
   "source": [
    "element = \"oxygen\"\n",
    "print('first three characters:', element[0:3]) # from index 0 until, but not including, 3\n",
    "print('last three characters:', element[3:6])"
   ]
  },
  {
   "cell_type": "markdown",
   "metadata": {},
   "source": [
    "**Question**  \n",
    "\n",
    "What are the values of the following slices?\n",
    "```python\n",
    "element[4]\n",
    "element[4:]\n",
    "element[:] \n",
    "element[-1]\n",
    "element[-3:]\n",
    "```"
   ]
  },
  {
   "cell_type": "code",
   "execution_count": null,
   "metadata": {},
   "outputs": [],
   "source": [
    "# Your code here\n"
   ]
  },
  {
   "cell_type": "markdown",
   "metadata": {
    "tags": []
   },
   "source": [
    "#### 🔎 Solution"
   ]
  },
  {
   "cell_type": "code",
   "execution_count": null,
   "metadata": {},
   "outputs": [],
   "source": [
    "# %load solutions/slicing_strings.py"
   ]
  },
  {
   "cell_type": "markdown",
   "metadata": {
    "heading_collapsed": "true",
    "tags": []
   },
   "source": [
    "### ❔ <ins>Slicing lists with steps</ins>"
   ]
  },
  {
   "cell_type": "markdown",
   "metadata": {},
   "source": [
    "We’ve seen how to use slicing to take single blocks of successive entries from a sequence. But what if we want to take a subset of entries that aren’t next to each other in the sequence? We can achieve this by providing a third argument to the range within the brackets, called the step size.\n",
    "\n",
    "The full syntax for creating slices is `[begin:end:step]`, although you most often find a short-hand notation as we've seen in the above exercise.\n",
    "\n",
    "The example below shows how you can take every third entry in a list:"
   ]
  },
  {
   "cell_type": "code",
   "execution_count": null,
   "metadata": {},
   "outputs": [],
   "source": [
    "primes = [2, 3, 5, 7, 11, 13, 17, 19, 23, 29, 31, 37]\n",
    "subset = primes[0:12:3]\n",
    "print('subset', subset)"
   ]
  },
  {
   "cell_type": "markdown",
   "metadata": {},
   "source": [
    "Given the following list of months:"
   ]
  },
  {
   "cell_type": "code",
   "execution_count": null,
   "metadata": {},
   "outputs": [],
   "source": [
    "months = ['jan', 'feb', 'mar', 'apr', 'may', 'jun', 'jul', 'aug', 'sep', 'oct', 'nov', 'dec']"
   ]
  },
  {
   "cell_type": "markdown",
   "metadata": {},
   "source": [
    "**Questions**\n",
    "\n",
    "1. What slice of months will produce the following output `['jan', 'mar', 'may', 'jul', 'sep', nov']`?\n",
    "\n",
    "1. Given the short-hand notation we used for the character string in the Exercise (i.e. `element[:2] == 'element[0:2]`), can you find the short-hand notation for question 1? What do you find easier to read?\n",
    "\n",
    "1. Using the step size parameter, can you think of a way to reverse the list?"
   ]
  },
  {
   "cell_type": "markdown",
   "metadata": {},
   "source": [
    "<details>\n",
    "<summary>💡 Click here for hints</summary>\n",
    "\n",
    "- Note that `months[-1]` will retrieve the last index (`dec`), but `months[0:-1]` will not. Slicing is \"up to, but not including\". \n",
    "- The step parameter accepts negative values for reversing the slicing direction\n",
    "\n",
    "</details>"
   ]
  },
  {
   "cell_type": "code",
   "execution_count": null,
   "metadata": {},
   "outputs": [],
   "source": [
    "# Your code here\n"
   ]
  },
  {
   "cell_type": "markdown",
   "metadata": {
    "tags": []
   },
   "source": [
    "#### 🔎 Solution"
   ]
  },
  {
   "cell_type": "code",
   "execution_count": null,
   "metadata": {},
   "outputs": [],
   "source": [
    "# %load solutions/slicing_steps.py"
   ]
  },
  {
   "cell_type": "markdown",
   "metadata": {
    "tags": []
   },
   "source": [
    "## Breakout Session 2"
   ]
  },
  {
   "cell_type": "markdown",
   "metadata": {
    "heading_collapsed": "true",
    "tags": []
   },
   "source": [
    "### ❓ <ins>Change in inflammation</ins>"
   ]
  },
  {
   "cell_type": "markdown",
   "metadata": {},
   "source": [
    "The patient data is longitudinal in the sense that each row represents a series of observations relating to one individual. This means that the change in inflammation over time is a meaningful concept.\n",
    "\n",
    "The `numpy.diff()` function takes an array and returns the differences between two successive values. Let’s use it to examine the changes per day across the first week of patient 3 from our inflammation dataset:"
   ]
  },
  {
   "cell_type": "code",
   "execution_count": null,
   "metadata": {},
   "outputs": [],
   "source": [
    "# Load data\n",
    "import numpy\n",
    "data = numpy.loadtxt(fname='data/inflammation-01.csv', delimiter=',')"
   ]
  },
  {
   "cell_type": "code",
   "execution_count": null,
   "metadata": {},
   "outputs": [],
   "source": [
    "patient3_week1 = data[3, :7]\n",
    "print(patient3_week1)"
   ]
  },
  {
   "cell_type": "markdown",
   "metadata": {},
   "source": [
    "Calling `numpy.diff(patient3_week1)` would do the following calculations\n",
    "\n",
    "```python\n",
    "[ 0 - 0, 2 - 0, 0 - 2, 4 - 0, 2 - 4, 2 - 2 ]\n",
    "```\n",
    "and return the 6 difference values in a new array:"
   ]
  },
  {
   "cell_type": "code",
   "execution_count": null,
   "metadata": {},
   "outputs": [],
   "source": [
    "numpy.diff(patient3_week1)"
   ]
  },
  {
   "cell_type": "markdown",
   "metadata": {},
   "source": [
    "**Questions**\n",
    "\n",
    "1. When calling `numpy.diff()` with a multi-dimensional array, an `axis` argument may be passed to the function to specify which axis to process. When applying `numpy.diff()` to our 2D inflammation array `data`, which axis would we specify?\n",
    "\n",
    "1. If the shape of an individual data file is `(60, 40)` (60 rows and 40 columns), what would the `shape` of the array be after you run the `diff()` function and why?\n",
    "\n",
    "1. How would you find the largest change in inflammation for each patient? Does it matter if the change in inflammation is an increase or a decrease?\n",
    "\n",
    "1. Plot a histogram using `matplotlib.pyplot.hist()` of the change per day for patient 3 across all 40 days. "
   ]
  },
  {
   "cell_type": "markdown",
   "metadata": {},
   "source": [
    "<details>\n",
    "<summary>💡 Click here for hints</summary>\n",
    "\n",
    "1) Using `axis=0`, means it will calculate the consecutive difference between patients (considering all days). Using `axis=1` means it will calculate the consecutive difference between days (considering all patients). Since it is more useful to see what happens to all patients as they go through the clinical trial, it makes more sense to see overall how the number of inflammation episodes change for the patients between consecutive days.\n",
    "    \n",
    "    ![](https://swcarpentry.github.io/python-novice-inflammation/fig/python-operations-across-axes.png)\n",
    "\n",
    "2) Note that the array of differences is shorter by one element.\n",
    "    \n",
    "3) By using the `numpy.max()` function after you apply the `numpy.diff()` function, you will get the largest difference between days.\n",
    "</details>"
   ]
  },
  {
   "cell_type": "code",
   "execution_count": null,
   "metadata": {},
   "outputs": [],
   "source": [
    "# Your code here\n"
   ]
  },
  {
   "cell_type": "markdown",
   "metadata": {
    "heading_collapsed": "true",
    "tags": []
   },
   "source": [
    "#### 🔎 Solution"
   ]
  },
  {
   "cell_type": "code",
   "execution_count": null,
   "metadata": {},
   "outputs": [],
   "source": [
    "# %load solutions/inflammation.py"
   ]
  },
  {
   "cell_type": "markdown",
   "metadata": {},
   "source": [
    "### ❔ <ins>Plotting error bars</ins>"
   ]
  },
  {
   "cell_type": "markdown",
   "metadata": {},
   "source": [
    "1. Create a plot showing the standard deviation (`numpy.std`) of the inflammation data for each day across all patients.\n"
   ]
  },
  {
   "cell_type": "code",
   "execution_count": null,
   "metadata": {},
   "outputs": [],
   "source": [
    "# Load data\n",
    "import numpy\n",
    "import matplotlib.pyplot as plt\n",
    "\n",
    "data = numpy.loadtxt(fname='data/inflammation-01.csv', delimiter=',')"
   ]
  },
  {
   "cell_type": "code",
   "execution_count": null,
   "metadata": {},
   "outputs": [],
   "source": [
    "# Your code here\n"
   ]
  },
  {
   "cell_type": "markdown",
   "metadata": {},
   "source": [
    "#### 🔎 Solution"
   ]
  },
  {
   "cell_type": "code",
   "execution_count": null,
   "metadata": {},
   "outputs": [],
   "source": [
    "# %load solutions/error_bars1.py"
   ]
  },
  {
   "cell_type": "markdown",
   "metadata": {},
   "source": [
    "2. Use the standard deviation to plot errorbars around the mean of the inflammation data for each day across all patients. Make use of `matplotlib.pyplot.errorbar()` and optionally change the style through the arguments `linestyle`, `marker`, and `capsize`. Note that `errorbar()` requires both x and y data. See the [documentation](https://matplotlib.org/stable/api/_as_gen/matplotlib.pyplot.errorbar.html) for more information."
   ]
  },
  {
   "cell_type": "code",
   "execution_count": null,
   "metadata": {},
   "outputs": [],
   "source": [
    "# Your code here\n"
   ]
  },
  {
   "cell_type": "markdown",
   "metadata": {},
   "source": [
    "#### 🔎 Solution"
   ]
  },
  {
   "cell_type": "code",
   "execution_count": null,
   "metadata": {},
   "outputs": [],
   "source": [
    "# %load solutions/error_bars2.py"
   ]
  },
  {
   "cell_type": "markdown",
   "metadata": {
    "tags": []
   },
   "source": [
    "## Breakout Session 3"
   ]
  },
  {
   "cell_type": "markdown",
   "metadata": {
    "heading_collapsed": "true",
    "tags": []
   },
   "source": [
    "### ❓ <ins>Summing a list</ins>"
   ]
  },
  {
   "cell_type": "markdown",
   "metadata": {},
   "source": [
    "Write a loop that calculates the sum of elements in a list by adding each element and printing the final value, so `[124, 402, 36]` prints 562"
   ]
  },
  {
   "cell_type": "markdown",
   "metadata": {},
   "source": [
    "<details>\n",
    "<summary>💡 Click here for hints</summary>\n",
    "\n",
    "**Steps:**  \n",
    "1. Define the input variable `numbers` and output variable `summed`\n",
    "1. Create a for-loop over the indices of `numbers` and add each `num` to `summed`, e.g.\n",
    "    \n",
    "    ```python\n",
    "    for num in numbers:\n",
    "        # Add num to summed\n",
    "    ```\n",
    "1. Print the result with `print()`\n",
    "    \n",
    "\n",
    "</details>"
   ]
  },
  {
   "cell_type": "code",
   "execution_count": null,
   "metadata": {},
   "outputs": [],
   "source": [
    "# Your code here\n"
   ]
  },
  {
   "cell_type": "markdown",
   "metadata": {
    "tags": []
   },
   "source": [
    "#### 🔎 Solution"
   ]
  },
  {
   "cell_type": "code",
   "execution_count": null,
   "metadata": {},
   "outputs": [],
   "source": [
    "# %load solutions/summing_list.py"
   ]
  },
  {
   "cell_type": "markdown",
   "metadata": {
    "heading_collapsed": "true",
    "tags": []
   },
   "source": [
    "### ❓ <ins>Computing the value of a polynomial</ins>"
   ]
  },
  {
   "cell_type": "markdown",
   "metadata": {},
   "source": [
    "The built-in function `enumerate` takes a sequence (e.g. a list) and generates a new sequence of the same length. Each element of the new sequence is a pair composed of the index (0, 1, 2,…) and the value from the original sequence:"
   ]
  },
  {
   "cell_type": "code",
   "execution_count": null,
   "metadata": {},
   "outputs": [],
   "source": [
    "a_list = [\"apple\", \"banana\", \"orange\"]\n",
    "for count, value in enumerate(a_list):\n",
    "    print(count, value)"
   ]
  },
  {
   "cell_type": "markdown",
   "metadata": {},
   "source": [
    "The code above loops through `a_list`, assigning the index to `count` and the value to `value`.\n",
    "\n",
    "Suppose you have encoded a polynomial as a list of coefficients in the following way: the first element is the constant term, the second element is the coefficient of the linear term, the third is the coefficient of the quadratic term, etc.\n",
    "\n",
    "$$y = p_0 + p_1 x^1 + p_2 x^2 + ... + p_n x^n $$\n",
    "\n",
    "For example, the solution for $x=5$ with the coefficients $p_0=2, p_1=4, p_2=3$ is"
   ]
  },
  {
   "cell_type": "code",
   "execution_count": null,
   "metadata": {},
   "outputs": [],
   "source": [
    "x = 5\n",
    "coefs = [2, 4, 3]\n",
    "y = coefs[0] * x**0 + coefs[1] * x**1 + coefs[2] * x**2\n",
    "print(y)"
   ]
  },
  {
   "cell_type": "markdown",
   "metadata": {},
   "source": [
    "Write a loop using `enumerate(coefs)` which computes the value `y` of any polynomial, given `x` and `coefs`."
   ]
  },
  {
   "cell_type": "code",
   "execution_count": null,
   "metadata": {},
   "outputs": [],
   "source": [
    "# Your code here\n"
   ]
  },
  {
   "cell_type": "markdown",
   "metadata": {
    "tags": []
   },
   "source": [
    "#### 🔎 Solution"
   ]
  },
  {
   "cell_type": "code",
   "execution_count": null,
   "metadata": {},
   "outputs": [],
   "source": [
    "# %load solutions/polynomial.py"
   ]
  },
  {
   "cell_type": "markdown",
   "metadata": {
    "heading_collapsed": "true",
    "tags": []
   },
   "source": [
    "### ❔ <ins>Plotting differences</ins>"
   ]
  },
  {
   "cell_type": "markdown",
   "metadata": {},
   "source": [
    "Plot the difference between the average inflammations reported in the first and second datasets (stored in `inflammation-01.csv` and `inflammation-02.csv`, correspondingly).\n",
    "\n",
    "Steps:\n",
    "\n",
    "1. Import libraries\n",
    "1. Import data\n",
    "1. Calculate difference\n",
    "1. Create and annotate figure"
   ]
  },
  {
   "cell_type": "code",
   "execution_count": null,
   "metadata": {},
   "outputs": [],
   "source": [
    "# Your code here\n"
   ]
  },
  {
   "cell_type": "markdown",
   "metadata": {
    "heading_collapsed": "true",
    "tags": []
   },
   "source": [
    "#### 🔎 Solution"
   ]
  },
  {
   "cell_type": "code",
   "execution_count": null,
   "metadata": {},
   "outputs": [],
   "source": [
    "# %load solutions/plotting_differences.py"
   ]
  },
  {
   "cell_type": "markdown",
   "metadata": {},
   "source": [
    "\n"
   ]
  }
 ],
 "metadata": {
  "kernelspec": {
   "display_name": "Python 3 (ipykernel)",
   "language": "python",
   "name": "python3"
  },
  "language_info": {
   "codemirror_mode": {
    "name": "ipython",
    "version": 3
   },
   "file_extension": ".py",
   "mimetype": "text/x-python",
   "name": "python",
   "nbconvert_exporter": "python",
   "pygments_lexer": "ipython3",
   "version": "3.8.8"
  },
  "vscode": {
   "interpreter": {
    "hash": "5a11b7c9854c3485c90a91dd291a32967ac653787e59cc20a3822f9dc1ec1fc1"
   }
  }
 },
 "nbformat": 4,
 "nbformat_minor": 4
}
